{
 "cells": [
  {
   "cell_type": "code",
   "execution_count": 1,
   "metadata": {},
   "outputs": [
    {
     "name": "stderr",
     "output_type": "stream",
     "text": [
      "/Users/danielhey/anaconda3/lib/python3.6/site-packages/h5py/__init__.py:36: FutureWarning: Conversion of the second argument of issubdtype from `float` to `np.floating` is deprecated. In future, it will be treated as `np.float64 == np.dtype(float).type`.\n",
      "  from ._conv import register_converters as _register_converters\n"
     ]
    }
   ],
   "source": [
    "from maelstrom import Maelstrom\n",
    "import numpy as np"
   ]
  },
  {
   "cell_type": "code",
   "execution_count": 2,
   "metadata": {},
   "outputs": [],
   "source": [
    "kic_id = 9651065\n",
    "times, mag = np.loadtxt(f\"data/kic{kic_id}_lc.txt\",usecols=(0,1)).T\n",
    "nu_arr = np.loadtxt(f\"data/kic{kic_id}_metadata.csv\", delimiter=\",\", skiprows=1)[::6]"
   ]
  },
  {
   "cell_type": "code",
   "execution_count": 3,
   "metadata": {},
   "outputs": [],
   "source": [
    "model = Maelstrom(times, mag, nu=nu_arr)\n",
    "model.setup_orbit_model(with_eccen=True)"
   ]
  },
  {
   "cell_type": "code",
   "execution_count": 4,
   "metadata": {},
   "outputs": [
    {
     "data": {
      "text/plain": [
       "[<tf.Variable 'period_param_1:0' shape=() dtype=float64_ref>,\n",
       " <tf.Variable 'log_sigma2:0' shape=() dtype=float64_ref>,\n",
       " <tf.Variable 'lighttime_1:0' shape=(9,) dtype=float64_ref>,\n",
       " <tf.Variable 'tref_1:0' shape=() dtype=float64_ref>,\n",
       " <tf.Variable 'eccen_param_1:0' shape=() dtype=float64_ref>,\n",
       " <tf.Variable 'varpi_1:0' shape=() dtype=float64_ref>]"
      ]
     },
     "execution_count": 4,
     "metadata": {},
     "output_type": "execute_result"
    }
   ],
   "source": [
    "model.params"
   ]
  },
  {
   "cell_type": "code",
   "execution_count": null,
   "metadata": {},
   "outputs": [],
   "source": [
    "import tensorflow as tf\n",
    "def get_bounded_for_value(self, value, min_value, max_value):\n",
    "    if np.any(value <= min_value) or np.any(value >= max_value):\n",
    "        raise ValueError(\"value must be in the range (min_value, max_value)\")\n",
    "    return np.log(value - min_value) - np.log(max_value - value)\n",
    "\n",
    "def get_value_for_bounded(self, param, min_value, max_value):\n",
    "    return min_value + (max_value - min_value) / (1.0 + np.exp(-param))\n",
    "\n",
    "def get_bounded_variable(self, name, value, min_value, max_value, dtype=tf.float64):\n",
    "    param = tf.Variable(self.get_bounded_for_value(value, min_value, max_value), \n",
    "                        dtype=dtype, name=name + \"_param\")\n",
    "    var = min_value + (max_value - min_value) / (1.0 + tf.exp(-param))\n",
    "    log_jacobian = tf.log(var - min_value) + tf.log(max_value - var) - np.log(max_value - min_value)\n",
    "    return param, var, tf.reduce_sum(log_jacobian), (min_value, max_value)"
   ]
  },
  {
   "cell_type": "code",
   "execution_count": null,
   "metadata": {},
   "outputs": [],
   "source": [
    "a = tf.Variable(0.0, name='bla')"
   ]
  }
 ],
 "metadata": {
  "kernelspec": {
   "display_name": "Python 3",
   "language": "python",
   "name": "python3"
  },
  "language_info": {
   "codemirror_mode": {
    "name": "ipython",
    "version": 3
   },
   "file_extension": ".py",
   "mimetype": "text/x-python",
   "name": "python",
   "nbconvert_exporter": "python",
   "pygments_lexer": "ipython3",
   "version": "3.6.5"
  }
 },
 "nbformat": 4,
 "nbformat_minor": 2
}
