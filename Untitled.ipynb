{
 "cells": [
  {
   "cell_type": "code",
   "execution_count": 1,
   "metadata": {},
   "outputs": [
    {
     "name": "stderr",
     "output_type": "stream",
     "text": [
      "/Users/danielhey/anaconda3/lib/python3.6/site-packages/h5py/__init__.py:36: FutureWarning: Conversion of the second argument of issubdtype from `float` to `np.floating` is deprecated. In future, it will be treated as `np.float64 == np.dtype(float).type`.\n",
      "  from ._conv import register_converters as _register_converters\n"
     ]
    },
    {
     "name": "stdout",
     "output_type": "stream",
     "text": [
      "mean:-0.5296  stddev:0.7634  acceptance:0.6242\n"
     ]
    }
   ],
   "source": [
    "import tensorflow as tf\n",
    "import tensorflow_probability as tfp\n",
    "\n",
    "# Target distribution is proportional to: `exp(-x (1 + x))`.\n",
    "def unnormalized_log_prob(x):\n",
    "  return -x - x**2.\n",
    "\n",
    "# Create state to hold updated `step_size`.\n",
    "step_size = tf.get_variable(\n",
    "    name='step_size',\n",
    "    initializer=1.,\n",
    "    use_resource=True,  # For TFE compatibility.\n",
    "    trainable=False)\n",
    "\n",
    "# Initialize the HMC transition kernel.\n",
    "hmc = tfp.mcmc.HamiltonianMonteCarlo(\n",
    "    target_log_prob_fn=unnormalized_log_prob,\n",
    "    num_leapfrog_steps=3,\n",
    "    step_size=step_size,\n",
    "    step_size_update_fn=tfp.mcmc.make_simple_step_size_update_policy())\n",
    "\n",
    "# Run the chain (with burn-in).\n",
    "samples, kernel_results = tfp.mcmc.sample_chain(\n",
    "    num_results=int(10e3),\n",
    "    num_burnin_steps=int(1e3),\n",
    "    current_state=1.,\n",
    "    kernel=hmc)\n",
    "\n",
    "# Initialize all constructed variables.\n",
    "init_op = tf.global_variables_initializer()\n",
    "\n",
    "with tf.Session() as sess:\n",
    "  init_op.run()\n",
    "  samples_, kernel_results_ = sess.run([samples, kernel_results])\n",
    "\n",
    "print('mean:{:.4f}  stddev:{:.4f}  acceptance:{:.4f}'.format(\n",
    "    samples_.mean(), samples_.std(), kernel_results_.is_accepted.mean()))\n",
    "# mean:-0.5003  stddev:0.7711  acceptance:0.6240"
   ]
  },
  {
   "cell_type": "code",
   "execution_count": null,
   "metadata": {},
   "outputs": [],
   "source": []
  }
 ],
 "metadata": {
  "kernelspec": {
   "display_name": "Python 3",
   "language": "python",
   "name": "python3"
  },
  "language_info": {
   "codemirror_mode": {
    "name": "ipython",
    "version": 3
   },
   "file_extension": ".py",
   "mimetype": "text/x-python",
   "name": "python",
   "nbconvert_exporter": "python",
   "pygments_lexer": "ipython3",
   "version": "3.6.5"
  }
 },
 "nbformat": 4,
 "nbformat_minor": 2
}
